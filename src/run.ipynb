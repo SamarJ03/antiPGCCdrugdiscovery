{
 "cells": [
  {
   "cell_type": "code",
   "execution_count": 1,
   "id": "3ffc4557",
   "metadata": {},
   "outputs": [],
   "source": [
    "# testing??"
   ]
  },
  {
   "cell_type": "code",
   "execution_count": null,
   "id": "ef901e95",
   "metadata": {},
   "outputs": [
    {
     "name": "stderr",
     "output_type": "stream",
     "text": [
      "/opt/anaconda3/envs/antiPGCCvenv/lib/python3.10/site-packages/tqdm/auto.py:21: TqdmWarning: IProgress not found. Please update jupyter and ipywidgets. See https://ipywidgets.readthedocs.io/en/stable/user_install.html\n",
      "  from .autonotebook import tqdm as notebook_tqdm\n"
     ]
    }
   ],
   "source": [
    "import os\n",
    "import argparse\n",
    "from tools.CreatePrompts import Prompter\n",
    "from tools.Synthesize import Synthesizer\n",
    "from tools.Inference import Inferencer\n",
    "from tools.summarize_rules import Summarizer\n",
    "\n",
    "base_dir = '/Users/samarjosyula/Desktop/PROJECTS/pgccInhibitorDrugDiscovery'\n",
    "LLM4SD_path = os.path.join(base_dir, 'LLM4SD_antiPGCC')\n",
    "os.makedirs(LLM4SD_path, exist_ok=True)\n",
    "scaffoldDataset_path = os.path.join(LLM4SD_path, 'scaffold_datasets')\n",
    "os.makedirs(scaffoldDataset_path, exist_ok=True)\n",
    "promptFile_path = os.path.join(LLM4SD_path, 'prompt_file')\n",
    "os.makedirs(promptFile_path, exist_ok=True)"
   ]
  },
  {
   "cell_type": "code",
   "execution_count": 3,
   "id": "7fe1160d",
   "metadata": {},
   "outputs": [],
   "source": [
    "# STEP 1: create prompts\n",
    "promptArgs = {\n",
    "    'task':None,\n",
    "    'output_folder':None,\n",
    "    'ltWords':5,\n",
    "    'utWords':20,\n",
    "    'ltRules':3,\n",
    "    'utRules':20\n",
    "}\n",
    "\n",
    "# synthesize..\n",
    "prompter = Prompter(promptArgs, task='synthesize', output=promptFile_path)\n",
    "prompter.run()\n",
    "\n",
    "# infer..\n",
    "prompter = Prompter(promptArgs, task='inference', output=promptFile_path)\n",
    "prompter.run()"
   ]
  },
  {
   "cell_type": "code",
   "execution_count": null,
   "id": "059b2d51",
   "metadata": {},
   "outputs": [],
   "source": [
    "# STEP 2: synthesize\n",
    "synthArgs = {\n",
    "    'dataset':None,\n",
    "    'subtask':None,\n",
    "    'model':None,\n",
    "    'input_folder':promptFile_path,\n",
    "    'input_file': 'synthesize_prompt.json',\n",
    "    'output_folder':'synthesize_model_response'\n",
    "}\n",
    "synthesizer = Synthesizer(synthArgs, dataset='maccs', model='falcon-7b')\n",
    "synthesizer.run()"
   ]
  },
  {
   "cell_type": "code",
   "execution_count": null,
   "id": "c180663d",
   "metadata": {},
   "outputs": [],
   "source": [
    "# STEP 3: Inference\n",
    "inferArgs = {\n",
    "    'prompt_folder':promptFile_path,\n",
    "    'prompt_file':'inference_prompt.json',\n",
    "    'input_folder':scaffoldDataset_path,\n",
    "    'output_folder':'inference_model_response',\n",
    "    'dataset':None,\n",
    "    'subtask':None,\n",
    "    'list_num':30,\n",
    "    'model':None\n",
    "}\n",
    "inferencer = Inferencer(inferArgs, dataset='maccs', model='chemdfm')\n",
    "inferencer.run()"
   ]
  },
  {
   "cell_type": "code",
   "execution_count": null,
   "id": "c978e7a7",
   "metadata": {},
   "outputs": [],
   "source": [
    "# STEP 4: Summarize rules\n",
    "summArgs = {\n",
    "    'input_folder':'scaffoldDataset_path',\n",
    "    'input_model_folder': None,\n",
    "    'output_folder':'summarized_inference_rules',\n",
    "    'dataset':None,\n",
    "    'subtask':None,\n",
    "    'list_num':30,\n",
    "    'api_key':None\n",
    "}\n"
   ]
  }
 ],
 "metadata": {
  "kernelspec": {
   "display_name": "antiPGCCvenv",
   "language": "python",
   "name": "python3"
  },
  "language_info": {
   "codemirror_mode": {
    "name": "ipython",
    "version": 3
   },
   "file_extension": ".py",
   "mimetype": "text/x-python",
   "name": "python",
   "nbconvert_exporter": "python",
   "pygments_lexer": "ipython3",
   "version": "3.10.17"
  }
 },
 "nbformat": 4,
 "nbformat_minor": 5
}
