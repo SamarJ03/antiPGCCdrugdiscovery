{
 "cells": [
  {
   "cell_type": "code",
   "execution_count": null,
   "id": "7fe1160d",
   "metadata": {},
   "outputs": [],
   "source": []
  }
 ],
 "metadata": {
  "kernelspec": {
   "display_name": "antiPGCCvenv",
   "language": "python",
   "name": "python3"
  },
  "language_info": {
   "name": "python",
   "version": "3.10.13"
  }
 },
 "nbformat": 4,
 "nbformat_minor": 5
}
